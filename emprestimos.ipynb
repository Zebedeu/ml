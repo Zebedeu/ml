{
 "cells": [
  {
   "cell_type": "code",
   "execution_count": 1,
   "id": "31d50c80",
   "metadata": {},
   "outputs": [
    {
     "name": "stdin",
     "output_type": "stream",
     "text": [
      "qual é o nome do cliente?  Marcio\n",
      "Qual é a taxa de juros?  300\n",
      "Qual é o valor do empréstimo?  400000\n",
      "Quantos dias para pagar o empréstimo?  20\n",
      "qual é o nome do cliente?  Tereza\n",
      "Qual é a taxa de juros?  20\n",
      "Qual é o valor do empréstimo?  40\n",
      "Quantos dias para pagar o empréstimo?  30000\n"
     ]
    },
    {
     "name": "stdout",
     "output_type": "stream",
     "text": [
      " um pequelo log dos dados:  {'name': 'Tereza', 'interest_rate': 20.0, 'loan_amount': 40.0, 'days_to_repay': 30000}\n"
     ]
    }
   ],
   "source": [
    "import pandas as pd\n",
    "\n",
    "client_info = []\n",
    "for i in range(2):\n",
    "    name = input(\"qual é o nome do cliente? \")\n",
    "    interest_rate = float(input(\"Qual é a taxa de juros? \"))\n",
    "    loan_amount = float(input(\"Qual é o valor do empréstimo? \"))\n",
    "    days_to_repay = int(input(\"Quantos dias para pagar o empréstimo? \"))\n",
    "    client_info_ = {'name': name, 'interest_rate': interest_rate, \n",
    "                    'loan_amount': loan_amount, 'days_to_repay': days_to_repay}\n",
    "\n",
    "    client_info.append(client_info_)\n",
    "    \n",
    "## criar um novo dicionario com os valores de entradas.\n",
    "find_customer_data = {'name': [], 'interest_rate': [], 'loan_amount': [], 'days_to_repay': [], 'total': []}\n",
    "for customer_data in client_info:\n",
    "    find_customer_data['name'].append(customer_data['name'])\n",
    "    find_customer_data['interest_rate'].append(customer_data['interest_rate'])\n",
    "    find_customer_data['loan_amount'].append(customer_data['loan_amount'])\n",
    "    find_customer_data['days_to_repay'].append(customer_data['days_to_repay'])\n",
    "    \n",
    "    ## Aplicar a  formula para cada cliente\n",
    "    find_customer_data['total'].append( \n",
    "        ( customer_data['loan_amount'] * customer_data['interest_rate'] * customer_data['days_to_repay']) / 365 )\n",
    "    \n",
    "print(\" um pequelo log dos dados: \", customer_data)\n",
    "\n",
    "## criar a tabela\n",
    "original = pd.DataFrame(find_customer_data)\n",
    "\n",
    "\n"
   ]
  },
  {
   "cell_type": "code",
   "execution_count": 4,
   "id": "dec7b534",
   "metadata": {},
   "outputs": [
    {
     "data": {
      "text/html": [
       "<div>\n",
       "<style scoped>\n",
       "    .dataframe tbody tr th:only-of-type {\n",
       "        vertical-align: middle;\n",
       "    }\n",
       "\n",
       "    .dataframe tbody tr th {\n",
       "        vertical-align: top;\n",
       "    }\n",
       "\n",
       "    .dataframe thead th {\n",
       "        text-align: right;\n",
       "    }\n",
       "</style>\n",
       "<table border=\"1\" class=\"dataframe\">\n",
       "  <thead>\n",
       "    <tr style=\"text-align: right;\">\n",
       "      <th></th>\n",
       "      <th>name</th>\n",
       "      <th>interest_rate</th>\n",
       "      <th>loan_amount</th>\n",
       "      <th>days_to_repay</th>\n",
       "      <th>total</th>\n",
       "    </tr>\n",
       "  </thead>\n",
       "  <tbody>\n",
       "    <tr>\n",
       "      <th>0</th>\n",
       "      <td>Marcio</td>\n",
       "      <td>300.0</td>\n",
       "      <td>400000.0</td>\n",
       "      <td>20</td>\n",
       "      <td>6.575342e+06</td>\n",
       "    </tr>\n",
       "    <tr>\n",
       "      <th>1</th>\n",
       "      <td>Tereza</td>\n",
       "      <td>20.0</td>\n",
       "      <td>40.0</td>\n",
       "      <td>30000</td>\n",
       "      <td>6.575342e+04</td>\n",
       "    </tr>\n",
       "  </tbody>\n",
       "</table>\n",
       "</div>"
      ],
      "text/plain": [
       "     name  interest_rate  loan_amount  days_to_repay         total\n",
       "0  Marcio          300.0     400000.0             20  6.575342e+06\n",
       "1  Tereza           20.0         40.0          30000  6.575342e+04"
      ]
     },
     "execution_count": 4,
     "metadata": {},
     "output_type": "execute_result"
    }
   ],
   "source": [
    "original\n"
   ]
  },
  {
   "cell_type": "code",
   "execution_count": 5,
   "id": "6e6df3a7-bb2d-4cbf-9fce-fcb283e3eafe",
   "metadata": {},
   "outputs": [],
   "source": [
    "import numpy as np\n"
   ]
  },
  {
   "cell_type": "code",
   "execution_count": 6,
   "id": "1d446463-93a4-467a-ae8a-165a6fb84f02",
   "metadata": {},
   "outputs": [],
   "source": [
    "data  = {\n",
    "    'name': ['Magno', 'Pedro', 'João', 'Ana', 'Carlos', 'Mariana', 'Roberto', 'Luiza', 'Lucas', 'Juliana', 'Rafael', 'Fernanda', 'Mateus', 'Isabela', 'Gabriel', 'Laura', 'Sofia', 'Felipe', 'Beatriz', 'André'],\n",
    "    'interest_rate': [1.8, 1.2, 2.0, 2.5, 1.7, 2.1, 1.8, 1.9, 2.2, 1.5, 2.4, 2.0, 1.9, 2.3, 1.7, 2.6, 1.8, 2.0, 2.1, 1.6],\n",
    "    'loan_amount': [2000.0, 3000.0, 1500.0, 5000.0, 3500.0, 2200.0, 4000.0, 3200.0, 2700.0, 3100.0, 3800.0, 2400.0, 2600.0, 2900.0, 3300.0, 3500.0, 2300.0, 3000.0, 3200.0, 3400.0],\n",
    "    'days_to_repay': [20, 20, 15, 30, 25, 18, 22, 30, 25, 20, 28, 17, 23, 30, 21, 29, 19, 22, 30, 24],\n",
    "    'total': [175.34, 263.01, 145.25, 510.33, 310.29, 210.20, 385.31, 285.40, 220.35, 275.60, 380.40, 230.15, 290.22, 310.15, 340.75, 365.00, 215.50, 295.35, 320.00, 330.10]\n",
    "}"
   ]
  },
  {
   "cell_type": "code",
   "execution_count": 7,
   "id": "d519090a-4326-40e6-9241-04846ebee952",
   "metadata": {},
   "outputs": [
    {
     "name": "stdout",
     "output_type": "stream",
     "text": [
      "        name  interest_rate  loan_amount  days_to_repay   total\n",
      "0      Magno            1.8       2000.0             20  175.34\n",
      "1      Pedro            1.2       3000.0             20  263.01\n",
      "2       João            2.0       1500.0             15  145.25\n",
      "3        Ana            2.5       5000.0             30  510.33\n",
      "4     Carlos            1.7       3500.0             25  310.29\n",
      "5    Mariana            2.1       2200.0             18  210.20\n",
      "6    Roberto            1.8       4000.0             22  385.31\n",
      "7      Luiza            1.9       3200.0             30  285.40\n",
      "8      Lucas            2.2       2700.0             25  220.35\n",
      "9    Juliana            1.5       3100.0             20  275.60\n",
      "10    Rafael            2.4       3800.0             28  380.40\n",
      "11  Fernanda            2.0       2400.0             17  230.15\n",
      "12    Mateus            1.9       2600.0             23  290.22\n",
      "13   Isabela            2.3       2900.0             30  310.15\n",
      "14   Gabriel            1.7       3300.0             21  340.75\n",
      "15     Laura            2.6       3500.0             29  365.00\n",
      "16     Sofia            1.8       2300.0             19  215.50\n",
      "17    Felipe            2.0       3000.0             22  295.35\n",
      "18   Beatriz            2.1       3200.0             30  320.00\n",
      "19     André            1.6       3400.0             24  330.10\n"
     ]
    }
   ],
   "source": [
    "novo = pd.DataFrame(data)\n",
    "print(novo)"
   ]
  },
  {
   "cell_type": "code",
   "execution_count": 8,
   "id": "d9238780-4bbf-4cd8-be5c-47e4446f55e9",
   "metadata": {},
   "outputs": [
    {
     "name": "stdout",
     "output_type": "stream",
     "text": [
      "        name  interest_rate  loan_amount  days_to_repay   total\n",
      "0      Magno            1.8       2000.0             20  175.34\n",
      "1      Pedro            1.2       3000.0             20  263.01\n",
      "2       João            2.0       1500.0             15  145.25\n",
      "3        Ana            2.5       5000.0             30  510.33\n",
      "4     Carlos            1.7       3500.0             25  310.29\n",
      "5    Mariana            2.1       2200.0             18  210.20\n",
      "6    Roberto            1.8       4000.0             22  385.31\n",
      "7      Luiza            1.9       3200.0             30  285.40\n",
      "8      Lucas            2.2       2700.0             25  220.35\n",
      "9    Juliana            1.5       3100.0             20  275.60\n",
      "10    Rafael            2.4       3800.0             28  380.40\n",
      "11  Fernanda            2.0       2400.0             17  230.15\n",
      "12    Mateus            1.9       2600.0             23  290.22\n",
      "13   Isabela            2.3       2900.0             30  310.15\n",
      "14   Gabriel            1.7       3300.0             21  340.75\n",
      "15     Laura            2.6       3500.0             29  365.00\n",
      "16     Sofia            1.8       2300.0             19  215.50\n",
      "17    Felipe            2.0       3000.0             22  295.35\n",
      "18   Beatriz            2.1       3200.0             30  320.00\n",
      "19     André            1.6       3400.0             24  330.10\n"
     ]
    }
   ],
   "source": [
    "print(novo)"
   ]
  },
  {
   "cell_type": "code",
   "execution_count": 9,
   "id": "6c167cea-0d7b-46a8-83b4-639f320adc79",
   "metadata": {},
   "outputs": [],
   "source": [
    "df_combined  =pd.concat([original, novo], ignore_index=True)"
   ]
  },
  {
   "cell_type": "code",
   "execution_count": 10,
   "id": "20b51481-b6ea-4a3f-bd1d-9f94e17bd6a9",
   "metadata": {},
   "outputs": [],
   "source": [
    "df_combined = df_combined.fillna({'loan_amount': df_combined['loan_amount'].mean() })"
   ]
  },
  {
   "cell_type": "code",
   "execution_count": 11,
   "id": "2df90711-d28b-468b-a05d-cadafa1af02f",
   "metadata": {},
   "outputs": [
    {
     "data": {
      "text/html": [
       "<div>\n",
       "<style scoped>\n",
       "    .dataframe tbody tr th:only-of-type {\n",
       "        vertical-align: middle;\n",
       "    }\n",
       "\n",
       "    .dataframe tbody tr th {\n",
       "        vertical-align: top;\n",
       "    }\n",
       "\n",
       "    .dataframe thead th {\n",
       "        text-align: right;\n",
       "    }\n",
       "</style>\n",
       "<table border=\"1\" class=\"dataframe\">\n",
       "  <thead>\n",
       "    <tr style=\"text-align: right;\">\n",
       "      <th></th>\n",
       "      <th>name</th>\n",
       "      <th>interest_rate</th>\n",
       "      <th>loan_amount</th>\n",
       "      <th>days_to_repay</th>\n",
       "      <th>total</th>\n",
       "    </tr>\n",
       "  </thead>\n",
       "  <tbody>\n",
       "    <tr>\n",
       "      <th>0</th>\n",
       "      <td>Marcio</td>\n",
       "      <td>300.0</td>\n",
       "      <td>400000.0</td>\n",
       "      <td>20</td>\n",
       "      <td>6.575342e+06</td>\n",
       "    </tr>\n",
       "    <tr>\n",
       "      <th>1</th>\n",
       "      <td>Tereza</td>\n",
       "      <td>20.0</td>\n",
       "      <td>40.0</td>\n",
       "      <td>30000</td>\n",
       "      <td>6.575342e+04</td>\n",
       "    </tr>\n",
       "    <tr>\n",
       "      <th>2</th>\n",
       "      <td>Magno</td>\n",
       "      <td>1.8</td>\n",
       "      <td>2000.0</td>\n",
       "      <td>20</td>\n",
       "      <td>1.753400e+02</td>\n",
       "    </tr>\n",
       "    <tr>\n",
       "      <th>3</th>\n",
       "      <td>Pedro</td>\n",
       "      <td>1.2</td>\n",
       "      <td>3000.0</td>\n",
       "      <td>20</td>\n",
       "      <td>2.630100e+02</td>\n",
       "    </tr>\n",
       "    <tr>\n",
       "      <th>4</th>\n",
       "      <td>João</td>\n",
       "      <td>2.0</td>\n",
       "      <td>1500.0</td>\n",
       "      <td>15</td>\n",
       "      <td>1.452500e+02</td>\n",
       "    </tr>\n",
       "    <tr>\n",
       "      <th>5</th>\n",
       "      <td>Ana</td>\n",
       "      <td>2.5</td>\n",
       "      <td>5000.0</td>\n",
       "      <td>30</td>\n",
       "      <td>5.103300e+02</td>\n",
       "    </tr>\n",
       "    <tr>\n",
       "      <th>6</th>\n",
       "      <td>Carlos</td>\n",
       "      <td>1.7</td>\n",
       "      <td>3500.0</td>\n",
       "      <td>25</td>\n",
       "      <td>3.102900e+02</td>\n",
       "    </tr>\n",
       "    <tr>\n",
       "      <th>7</th>\n",
       "      <td>Mariana</td>\n",
       "      <td>2.1</td>\n",
       "      <td>2200.0</td>\n",
       "      <td>18</td>\n",
       "      <td>2.102000e+02</td>\n",
       "    </tr>\n",
       "    <tr>\n",
       "      <th>8</th>\n",
       "      <td>Roberto</td>\n",
       "      <td>1.8</td>\n",
       "      <td>4000.0</td>\n",
       "      <td>22</td>\n",
       "      <td>3.853100e+02</td>\n",
       "    </tr>\n",
       "    <tr>\n",
       "      <th>9</th>\n",
       "      <td>Luiza</td>\n",
       "      <td>1.9</td>\n",
       "      <td>3200.0</td>\n",
       "      <td>30</td>\n",
       "      <td>2.854000e+02</td>\n",
       "    </tr>\n",
       "    <tr>\n",
       "      <th>10</th>\n",
       "      <td>Lucas</td>\n",
       "      <td>2.2</td>\n",
       "      <td>2700.0</td>\n",
       "      <td>25</td>\n",
       "      <td>2.203500e+02</td>\n",
       "    </tr>\n",
       "    <tr>\n",
       "      <th>11</th>\n",
       "      <td>Juliana</td>\n",
       "      <td>1.5</td>\n",
       "      <td>3100.0</td>\n",
       "      <td>20</td>\n",
       "      <td>2.756000e+02</td>\n",
       "    </tr>\n",
       "    <tr>\n",
       "      <th>12</th>\n",
       "      <td>Rafael</td>\n",
       "      <td>2.4</td>\n",
       "      <td>3800.0</td>\n",
       "      <td>28</td>\n",
       "      <td>3.804000e+02</td>\n",
       "    </tr>\n",
       "    <tr>\n",
       "      <th>13</th>\n",
       "      <td>Fernanda</td>\n",
       "      <td>2.0</td>\n",
       "      <td>2400.0</td>\n",
       "      <td>17</td>\n",
       "      <td>2.301500e+02</td>\n",
       "    </tr>\n",
       "    <tr>\n",
       "      <th>14</th>\n",
       "      <td>Mateus</td>\n",
       "      <td>1.9</td>\n",
       "      <td>2600.0</td>\n",
       "      <td>23</td>\n",
       "      <td>2.902200e+02</td>\n",
       "    </tr>\n",
       "    <tr>\n",
       "      <th>15</th>\n",
       "      <td>Isabela</td>\n",
       "      <td>2.3</td>\n",
       "      <td>2900.0</td>\n",
       "      <td>30</td>\n",
       "      <td>3.101500e+02</td>\n",
       "    </tr>\n",
       "    <tr>\n",
       "      <th>16</th>\n",
       "      <td>Gabriel</td>\n",
       "      <td>1.7</td>\n",
       "      <td>3300.0</td>\n",
       "      <td>21</td>\n",
       "      <td>3.407500e+02</td>\n",
       "    </tr>\n",
       "    <tr>\n",
       "      <th>17</th>\n",
       "      <td>Laura</td>\n",
       "      <td>2.6</td>\n",
       "      <td>3500.0</td>\n",
       "      <td>29</td>\n",
       "      <td>3.650000e+02</td>\n",
       "    </tr>\n",
       "    <tr>\n",
       "      <th>18</th>\n",
       "      <td>Sofia</td>\n",
       "      <td>1.8</td>\n",
       "      <td>2300.0</td>\n",
       "      <td>19</td>\n",
       "      <td>2.155000e+02</td>\n",
       "    </tr>\n",
       "    <tr>\n",
       "      <th>19</th>\n",
       "      <td>Felipe</td>\n",
       "      <td>2.0</td>\n",
       "      <td>3000.0</td>\n",
       "      <td>22</td>\n",
       "      <td>2.953500e+02</td>\n",
       "    </tr>\n",
       "    <tr>\n",
       "      <th>20</th>\n",
       "      <td>Beatriz</td>\n",
       "      <td>2.1</td>\n",
       "      <td>3200.0</td>\n",
       "      <td>30</td>\n",
       "      <td>3.200000e+02</td>\n",
       "    </tr>\n",
       "    <tr>\n",
       "      <th>21</th>\n",
       "      <td>André</td>\n",
       "      <td>1.6</td>\n",
       "      <td>3400.0</td>\n",
       "      <td>24</td>\n",
       "      <td>3.301000e+02</td>\n",
       "    </tr>\n",
       "  </tbody>\n",
       "</table>\n",
       "</div>"
      ],
      "text/plain": [
       "        name  interest_rate  loan_amount  days_to_repay         total\n",
       "0     Marcio          300.0     400000.0             20  6.575342e+06\n",
       "1     Tereza           20.0         40.0          30000  6.575342e+04\n",
       "2      Magno            1.8       2000.0             20  1.753400e+02\n",
       "3      Pedro            1.2       3000.0             20  2.630100e+02\n",
       "4       João            2.0       1500.0             15  1.452500e+02\n",
       "5        Ana            2.5       5000.0             30  5.103300e+02\n",
       "6     Carlos            1.7       3500.0             25  3.102900e+02\n",
       "7    Mariana            2.1       2200.0             18  2.102000e+02\n",
       "8    Roberto            1.8       4000.0             22  3.853100e+02\n",
       "9      Luiza            1.9       3200.0             30  2.854000e+02\n",
       "10     Lucas            2.2       2700.0             25  2.203500e+02\n",
       "11   Juliana            1.5       3100.0             20  2.756000e+02\n",
       "12    Rafael            2.4       3800.0             28  3.804000e+02\n",
       "13  Fernanda            2.0       2400.0             17  2.301500e+02\n",
       "14    Mateus            1.9       2600.0             23  2.902200e+02\n",
       "15   Isabela            2.3       2900.0             30  3.101500e+02\n",
       "16   Gabriel            1.7       3300.0             21  3.407500e+02\n",
       "17     Laura            2.6       3500.0             29  3.650000e+02\n",
       "18     Sofia            1.8       2300.0             19  2.155000e+02\n",
       "19    Felipe            2.0       3000.0             22  2.953500e+02\n",
       "20   Beatriz            2.1       3200.0             30  3.200000e+02\n",
       "21     André            1.6       3400.0             24  3.301000e+02"
      ]
     },
     "execution_count": 11,
     "metadata": {},
     "output_type": "execute_result"
    }
   ],
   "source": [
    "df_combined"
   ]
  },
  {
   "cell_type": "code",
   "execution_count": 12,
   "id": "322d572d-84dd-4839-8d63-7754a8e9e14f",
   "metadata": {},
   "outputs": [],
   "source": [
    "X = novo[['interest_rate', 'loan_amount', 'days_to_repay']]\n",
    "y = novo['total']"
   ]
  },
  {
   "cell_type": "code",
   "execution_count": 13,
   "id": "965f2bef-c1c6-4b17-9de9-ccd6f05ac54d",
   "metadata": {},
   "outputs": [],
   "source": [
    "from sklearn.tree import DecisionTreeClassifier\n",
    "from sklearn.model_selection import train_test_split\n",
    "from sklearn.linear_model import LinearRegression\n",
    "from sklearn.metrics import mean_squared_error, mean_absolute_error\n"
   ]
  },
  {
   "cell_type": "code",
   "execution_count": 14,
   "id": "cbf22760-ef9b-48fe-8109-fd5b043d8276",
   "metadata": {},
   "outputs": [],
   "source": [
    "X_train, X_test, y_train, y_test = train_test_split(X, y, test_size=0.2, random_state=42)\n"
   ]
  },
  {
   "cell_type": "code",
   "execution_count": 15,
   "id": "36b1c94f-10e7-4bbb-9c27-060433291683",
   "metadata": {},
   "outputs": [],
   "source": [
    "model = LinearRegression()"
   ]
  },
  {
   "cell_type": "code",
   "execution_count": 16,
   "id": "60471927-975e-44ce-9fb2-fa1cc1678473",
   "metadata": {},
   "outputs": [
    {
     "name": "stdout",
     "output_type": "stream",
     "text": [
      "Acurácia do modelo: 0.9873133166738906\n"
     ]
    }
   ],
   "source": [
    "model.fit(X_train, y_train)\n",
    "score = model.score(X_test, y_test)\n",
    "print(\"Acurácia do modelo:\", score)\n"
   ]
  },
  {
   "cell_type": "code",
   "execution_count": 17,
   "id": "85816c17-9c37-4c8d-8d3a-a536508eac5a",
   "metadata": {},
   "outputs": [],
   "source": [
    "y_pred = model.predict(X_test)\n"
   ]
  },
  {
   "cell_type": "code",
   "execution_count": 18,
   "id": "f51f77b0-751b-43f0-99f4-14e4400e7e2a",
   "metadata": {},
   "outputs": [
    {
     "name": "stdout",
     "output_type": "stream",
     "text": [
      "Erro Quadrático Médio: 58.96001501816006\n"
     ]
    }
   ],
   "source": [
    "mse = mean_squared_error(y_test, y_pred)\n",
    "print(f\"Erro Quadrático Médio: {mse}\")\n"
   ]
  },
  {
   "cell_type": "code",
   "execution_count": 19,
   "id": "d20e49d9-6e64-497c-8791-7784ce97398d",
   "metadata": {},
   "outputs": [
    {
     "name": "stdout",
     "output_type": "stream",
     "text": [
      "Coeficientes do modelo: [28.69211997  0.10159608 -0.47165471]\n",
      "Intercepto: -59.64722986903905\n",
      "Acurácia do modelo (R^2): 0.9873133166738906\n",
      "Erro Quadrático Médio (EQM): 58.96001501816006\n",
      "Erro Absoluto Médio (EAM): 7.221670964488389\n"
     ]
    }
   ],
   "source": [
    "# Exibir os coeficientes do modelo\n",
    "print(\"Coeficientes do modelo:\", model.coef_)\n",
    "print(\"Intercepto:\", model.intercept_)\n",
    "\n",
    "score = model.score(X_test, y_test)\n",
    "eqm = mean_squared_error(y_test, y_pred)\n",
    "eam = mean_absolute_error(y_test, y_pred)\n",
    "\n",
    "print(\"Acurácia do modelo (R^2):\", score)\n",
    "print(\"Erro Quadrático Médio (EQM):\", eqm)\n",
    "print(\"Erro Absoluto Médio (EAM):\", eam)\n",
    "\n"
   ]
  },
  {
   "cell_type": "code",
   "execution_count": 20,
   "id": "9220bb9a-f4fc-4eaa-a5df-bc0101da4213",
   "metadata": {},
   "outputs": [],
   "source": [
    "novo_dado = [[1.8, 2000.0, 20]]  # interest_rate, loan_amount, days_to_repay\n"
   ]
  },
  {
   "cell_type": "code",
   "execution_count": 21,
   "id": "9df1f944-4a0b-4d04-87e0-669b8400b41a",
   "metadata": {},
   "outputs": [
    {
     "name": "stderr",
     "output_type": "stream",
     "text": [
      "/opt/anaconda3/envs/spacy/lib/python3.11/site-packages/sklearn/base.py:439: UserWarning: X does not have valid feature names, but LinearRegression was fitted with feature names\n",
      "  warnings.warn(\n"
     ]
    }
   ],
   "source": [
    "previsao_total = model.predict(novo_dado)\n"
   ]
  },
  {
   "cell_type": "code",
   "execution_count": 22,
   "id": "4e2b93c6-2590-43e0-af07-08a3e7ff5678",
   "metadata": {},
   "outputs": [
    {
     "name": "stdout",
     "output_type": "stream",
     "text": [
      "O valor total previsto para o novo empréstimo é: 185.75765988935575\n"
     ]
    }
   ],
   "source": [
    "print(f\"O valor total previsto para o novo empréstimo é: {previsao_total[0]}\")\n"
   ]
  },
  {
   "cell_type": "code",
   "execution_count": null,
   "id": "3cd3d78a-8a07-4010-81c4-138864dacd7f",
   "metadata": {},
   "outputs": [],
   "source": []
  },
  {
   "cell_type": "code",
   "execution_count": null,
   "id": "bbd44359-7259-4388-be30-7bb058674785",
   "metadata": {},
   "outputs": [],
   "source": []
  },
  {
   "cell_type": "code",
   "execution_count": null,
   "id": "b255882c-2d40-4e2f-a2f0-6d642e4451ec",
   "metadata": {},
   "outputs": [],
   "source": []
  },
  {
   "cell_type": "code",
   "execution_count": null,
   "id": "5e83c42f-15bd-4dbb-a4b6-3f8b7fce55f8",
   "metadata": {},
   "outputs": [],
   "source": []
  }
 ],
 "metadata": {
  "kernelspec": {
   "display_name": "Python 3 (ipykernel)",
   "language": "python",
   "name": "python3"
  },
  "language_info": {
   "codemirror_mode": {
    "name": "ipython",
    "version": 3
   },
   "file_extension": ".py",
   "mimetype": "text/x-python",
   "name": "python",
   "nbconvert_exporter": "python",
   "pygments_lexer": "ipython3",
   "version": "3.11.9"
  }
 },
 "nbformat": 4,
 "nbformat_minor": 5
}
